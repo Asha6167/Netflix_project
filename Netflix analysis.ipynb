{
 "cells": [
  {
   "cell_type": "code",
   "execution_count": null,
   "id": "0971744a",
   "metadata": {},
   "outputs": [],
   "source": [
    "import pandas as pd\n",
    "import numpy as np\n"
   ]
  },
  {
   "cell_type": "markdown",
   "id": "3b8a59d9",
   "metadata": {},
   "source": [
    "# import dataset"
   ]
  },
  {
   "cell_type": "code",
   "execution_count": null,
   "id": "19c15b64",
   "metadata": {},
   "outputs": [],
   "source": [
    "\n",
    "netflix_data=pd.read_csv(r'C:\\Users\\asha puneet nayak\\Downloads\\netflix analysis\\NetFlix.csv')# \"r\" is to debug unicode error\n",
    "netflix_data"
   ]
  },
  {
   "cell_type": "markdown",
   "id": "7b150ce7",
   "metadata": {},
   "source": [
    "# data analysis,cleaning and summarizing"
   ]
  },
  {
   "cell_type": "code",
   "execution_count": null,
   "id": "7855b878",
   "metadata": {},
   "outputs": [],
   "source": [
    "netflix_data.head()"
   ]
  },
  {
   "cell_type": "code",
   "execution_count": null,
   "id": "31588473",
   "metadata": {},
   "outputs": [],
   "source": [
    "netflix_data.tail()"
   ]
  },
  {
   "cell_type": "code",
   "execution_count": null,
   "id": "e87c0a75",
   "metadata": {},
   "outputs": [],
   "source": [
    "netflix_data.shape # number of observations and columns"
   ]
  },
  {
   "cell_type": "code",
   "execution_count": null,
   "id": "04fcb09d",
   "metadata": {},
   "outputs": [],
   "source": [
    "netflix_data.columns"
   ]
  },
  {
   "cell_type": "code",
   "execution_count": null,
   "id": "be33293b",
   "metadata": {},
   "outputs": [],
   "source": [
    "netflix_data.columns.values"
   ]
  },
  {
   "cell_type": "code",
   "execution_count": null,
   "id": "6500cfc8",
   "metadata": {},
   "outputs": [],
   "source": [
    "netflix_data.count() # column level total values"
   ]
  },
  {
   "cell_type": "code",
   "execution_count": null,
   "id": "19e89dec",
   "metadata": {},
   "outputs": [],
   "source": [
    "netflix_data.ndim # dimention of dataframe"
   ]
  },
  {
   "cell_type": "code",
   "execution_count": null,
   "id": "54e1e6e6",
   "metadata": {},
   "outputs": [],
   "source": [
    "netflix_data.dtypes"
   ]
  },
  {
   "cell_type": "code",
   "execution_count": null,
   "id": "deee0cc8",
   "metadata": {},
   "outputs": [],
   "source": [
    "netflix_data.info()"
   ]
  },
  {
   "cell_type": "code",
   "execution_count": null,
   "id": "afa73d74",
   "metadata": {},
   "outputs": [],
   "source": [
    "netflix_data.isna().sum() # null values columnwise"
   ]
  },
  {
   "cell_type": "code",
   "execution_count": null,
   "id": "5926446c",
   "metadata": {},
   "outputs": [],
   "source": [
    "netflix_data.isna().sum().sum() # total null values in dataset"
   ]
  },
  {
   "cell_type": "code",
   "execution_count": null,
   "id": "01e7cdc1",
   "metadata": {},
   "outputs": [],
   "source": [
    "netflix_data.drop_duplicates(keep='first',inplace=True)"
   ]
  },
  {
   "cell_type": "code",
   "execution_count": null,
   "id": "8c2a4e35",
   "metadata": {},
   "outputs": [],
   "source": [
    "netflix_data"
   ]
  },
  {
   "cell_type": "code",
   "execution_count": null,
   "id": "8f3a4f5c",
   "metadata": {},
   "outputs": [],
   "source": [
    "netflix_data.shape # there are no duplicate values"
   ]
  },
  {
   "cell_type": "code",
   "execution_count": null,
   "id": "2488e4a3",
   "metadata": {},
   "outputs": [],
   "source": [
    "netflix_data.describe() # statistical summary"
   ]
  },
  {
   "cell_type": "code",
   "execution_count": null,
   "id": "945efcf2",
   "metadata": {},
   "outputs": [],
   "source": [
    "netflix_data1=netflix_data.dropna()\n",
    "netflix_data1"
   ]
  },
  {
   "cell_type": "code",
   "execution_count": null,
   "id": "9a0ad90b",
   "metadata": {},
   "outputs": [],
   "source": [
    "netflix_data1.shape "
   ]
  },
  {
   "cell_type": "code",
   "execution_count": null,
   "id": "169cb355",
   "metadata": {},
   "outputs": [],
   "source": [
    "netflix_data1"
   ]
  },
  {
   "cell_type": "code",
   "execution_count": null,
   "id": "e0c134d6",
   "metadata": {},
   "outputs": [],
   "source": [
    "# convert datatype of date_added column\n",
    "netflix_data1['date_added']=pd.to_datetime(netflix_data1['date_added'])\n",
    "netflix_data1.dtypes\n"
   ]
  },
  {
   "cell_type": "code",
   "execution_count": null,
   "id": "70720d63",
   "metadata": {},
   "outputs": [],
   "source": [
    "netflix_data_TV_Show=netflix_data.loc[netflix_data['type']=='TV Show']\n",
    "netflix_data_TV_Show"
   ]
  },
  {
   "cell_type": "code",
   "execution_count": null,
   "id": "1f8e66af",
   "metadata": {},
   "outputs": [],
   "source": [
    "netflix_data_Movie=netflix_data.loc[~netflix_data['type'].isin(netflix_data_TV_Show['type'])]\n",
    "netflix_data_Movie"
   ]
  },
  {
   "cell_type": "code",
   "execution_count": null,
   "id": "0d041097",
   "metadata": {},
   "outputs": [],
   "source": [
    "netflix_concat=pd.concat([netflix_data_TV_Show,netflix_data_Movie],ignore_index=True)\n",
    "netflix_concat\n"
   ]
  },
  {
   "cell_type": "code",
   "execution_count": null,
   "id": "e130048f",
   "metadata": {},
   "outputs": [],
   "source": [
    "netflix_data.loc[netflix_data['title'].str.startswith('B')]"
   ]
  },
  {
   "cell_type": "code",
   "execution_count": null,
   "id": "896ab41c",
   "metadata": {},
   "outputs": [],
   "source": [
    "netflix_data.loc[netflix_data['director'].str.contains('Raj',na=False)] # na=false ignore null values\n"
   ]
  },
  {
   "cell_type": "code",
   "execution_count": null,
   "id": "2a2bc116",
   "metadata": {},
   "outputs": [],
   "source": [
    "netflix_data.loc[netflix_data['genres'].str.endswith('Comedy',na=False)]"
   ]
  },
  {
   "cell_type": "code",
   "execution_count": null,
   "id": "c0019a3f",
   "metadata": {},
   "outputs": [],
   "source": [
    "netflix_data.loc[netflix_data['release_year'].isin([2020,2021])]"
   ]
  },
  {
   "cell_type": "code",
   "execution_count": null,
   "id": "cd51a6c1",
   "metadata": {},
   "outputs": [],
   "source": []
  },
  {
   "cell_type": "code",
   "execution_count": null,
   "id": "ad1a486b",
   "metadata": {},
   "outputs": [],
   "source": []
  }
 ],
 "metadata": {
  "kernelspec": {
   "display_name": "Python 3 (ipykernel)",
   "language": "python",
   "name": "python3"
  },
  "language_info": {
   "codemirror_mode": {
    "name": "ipython",
    "version": 3
   },
   "file_extension": ".py",
   "mimetype": "text/x-python",
   "name": "python",
   "nbconvert_exporter": "python",
   "pygments_lexer": "ipython3",
   "version": "3.9.12"
  }
 },
 "nbformat": 4,
 "nbformat_minor": 5
}
